{
  "nbformat": 4,
  "nbformat_minor": 0,
  "metadata": {
    "colab": {
      "provenance": [],
      "collapsed_sections": []
    },
    "kernelspec": {
      "name": "python3",
      "display_name": "Python 3"
    },
    "language_info": {
      "name": "python"
    }
  },
  "cells": [
    {
      "cell_type": "code",
      "source": [
        "# Import thư viện\n",
        "import pandas as pd\n",
        "import numpy as np\n",
        "import math\n",
        "from sklearn.metrics import mean_squared_error\n",
        "from sklearn.metrics import mean_absolute_error\n",
        "from sklearn.metrics import mean_absolute_percentage_error\n",
        "from sklearn.metrics import r2_score\n",
        "import matplotlib.pyplot as plt\n",
        "from sklearn.metrics import accuracy_score \n",
        "\n",
        "# Lấy dữ liệu dạng Dataframe từ file dữ liệu \n",
        "DATASET_inflation = pd.read_csv('https://raw.githubusercontent.com/phatjkk/world_inflation_data/main/world_CPI.csv')\n"
      ],
      "metadata": {
        "id": "z2lxx8scoaX8"
      },
      "execution_count": null,
      "outputs": []
    },
    {
      "cell_type": "code",
      "source": [
        "# Lấy số liệu của Việt Nam\n",
        "VN_inflation = DATASET_inflation.T[257] # Vietnam\n",
        "# Loại bỏ các năm có số liệu bị rỗng\n",
        "VN_inflation = VN_inflation[4:].dropna()\n",
        "print(VN_inflation)"
      ],
      "metadata": {
        "colab": {
          "base_uri": "https://localhost:8080/"
        },
        "id": "0WTlMuAOp60K",
        "outputId": "10edb9ff-a09d-4417-da8b-ee7fed5b8d89"
      },
      "execution_count": null,
      "outputs": [
        {
          "output_type": "stream",
          "name": "stdout",
          "text": [
            "1995      40.16572\n",
            "1996     42.445125\n",
            "1997     43.807412\n",
            "1998     46.990546\n",
            "1999     48.925195\n",
            "2000     48.088409\n",
            "2001     47.880886\n",
            "2002      49.71512\n",
            "2003      51.32323\n",
            "2004     55.303319\n",
            "2005     59.884963\n",
            "2006     64.327239\n",
            "2007     69.694993\n",
            "2008     85.805303\n",
            "2009     91.568831\n",
            "2010         100.0\n",
            "2011    118.677732\n",
            "2012     129.47112\n",
            "2013     138.00673\n",
            "2014     143.64369\n",
            "2015     144.55037\n",
            "2016    148.407333\n",
            "2017    153.631652\n",
            "2018    159.069641\n",
            "2019    163.516948\n",
            "2020    168.783722\n",
            "2021    171.880423\n",
            "Name: 257, dtype: object\n"
          ]
        }
      ]
    },
    {
      "cell_type": "code",
      "source": [
        "# Vẽ biểu đồ trực quan hoá dữ liệu\n",
        "import matplotlib.pyplot as plt\n",
        "plt.plot(VN_inflation)\n",
        "plt.title('Số liệu CPI Việt Nam')\n",
        "plt.xlabel(\"Năm\") \n",
        "plt.ylabel(\"Giá trị CPI\")\n",
        "plt.xticks(rotation=60)\n",
        "plt.show()"
      ],
      "metadata": {
        "colab": {
          "base_uri": "https://localhost:8080/",
          "height": 312
        },
        "id": "6Zy61dHMgUdE",
        "outputId": "93d337c9-5a39-40a0-8f0b-c57d5ac51666"
      },
      "execution_count": null,
      "outputs": [
        {
          "output_type": "display_data",
          "data": {
            "text/plain": [
              "<Figure size 432x288 with 1 Axes>"
            ],
            "image/png": "[encoded data removed]"
          },
          "metadata": {
            "needs_background": "light"
          }
        }
      ]
    },
    {
      "cell_type": "code",
      "source": [
        "# Chuẩn hoá dữ liệu, scale dữ liệu về khoảng [0, 1]\n",
        "from sklearn.preprocessing import MinMaxScaler\n",
        "sc = MinMaxScaler(feature_range=(0,1))\n",
        "VN_inflation = sc.fit_transform(VN_inflation.to_numpy()\n",
        "                                .reshape(-1,1).tolist())\n",
        "VN_inflation = VN_inflation.flatten()"
      ],
      "metadata": {
        "id": "VGNNWrhDgJC4"
      },
      "execution_count": null,
      "outputs": []
    },
    {
      "cell_type": "code",
      "source": [
        "# Phân lớp dữ liệu ra làm 2 phần X, Y\n",
        "X,Y=[],[]\n",
        "range_X = 5\n",
        "for i in range(range_X,len(VN_inflation)):\n",
        "    X.append(VN_inflation[i-range_X:i].tolist())\n",
        "    Y.append(VN_inflation[i])\n",
        "\n",
        "Y = np.array(Y).reshape(-1,1).tolist()\n",
        "\n",
        "print(X)\n",
        "print(Y)"
      ],
      "metadata": {
        "id": "ECBkYIxixNSQ",
        "colab": {
          "base_uri": "https://localhost:8080/"
        },
        "outputId": "1b3571ca-0c1e-4168-fd9f-adfd7000302a"
      },
      "execution_count": null,
      "outputs": [
        {
          "output_type": "stream",
          "name": "stdout",
          "text": [
            "[[0.0, 0.017305620328262217, 0.0276483332221526, 0.05181521272711931, 0.06650338979409387], [0.017305620328262217, 0.0276483332221526, 0.05181521272711931, 0.06650338979409387, 0.060150372057569346], [0.0276483332221526, 0.05181521272711931, 0.06650338979409387, 0.060150372057569346, 0.05857482364615646], [0.05181521272711931, 0.06650338979409387, 0.060150372057569346, 0.05857482364615646, 0.07250063851490013], [0.06650338979409387, 0.060150372057569346, 0.05857482364615646, 0.07250063851490013, 0.08470967221937686], [0.060150372057569346, 0.05857482364615646, 0.07250063851490013, 0.08470967221937686, 0.11492717588370127], [0.05857482364615646, 0.07250063851490013, 0.08470967221937686, 0.11492717588370127, 0.1497117782044728], [0.07250063851490013, 0.08470967221937686, 0.11492717588370127, 0.1497117782044728, 0.18343828497823844], [0.08470967221937686, 0.11492717588370127, 0.1497117782044728, 0.18343828497823844, 0.2241911662090602], [0.11492717588370127, 0.1497117782044728, 0.18343828497823844, 0.2241911662090602, 0.34650332913571746], [0.1497117782044728, 0.18343828497823844, 0.2241911662090602, 0.34650332913571746, 0.39026099079749266], [0.18343828497823844, 0.2241911662090602, 0.34650332913571746, 0.39026099079749266, 0.45427183576388463], [0.2241911662090602, 0.34650332913571746, 0.39026099079749266, 0.45427183576388463, 0.5960762962456202], [0.34650332913571746, 0.39026099079749266, 0.45427183576388463, 0.5960762962456202, 0.6780214968184276], [0.39026099079749266, 0.45427183576388463, 0.5960762962456202, 0.6780214968184276, 0.7428252715653256], [0.45427183576388463, 0.5960762962456202, 0.6780214968184276, 0.7428252715653256, 0.7856220125571172], [0.5960762962456202, 0.6780214968184276, 0.7428252715653256, 0.7856220125571172, 0.7925056806976505], [0.6780214968184276, 0.7428252715653256, 0.7856220125571172, 0.7925056806976505, 0.8217883843902842], [0.7428252715653256, 0.7856220125571172, 0.7925056806976505, 0.8217883843902842, 0.8614522890871761], [0.7856220125571172, 0.7925056806976505, 0.8217883843902842, 0.8614522890871761, 0.902738409043538], [0.7925056806976505, 0.8217883843902842, 0.8614522890871761, 0.902738409043538, 0.9365031036574718], [0.8217883843902842, 0.8614522890871761, 0.902738409043538, 0.9365031036574718, 0.9764893277253395]]\n",
            "[[0.060150372057569346], [0.05857482364615646], [0.07250063851490013], [0.08470967221937686], [0.11492717588370127], [0.1497117782044728], [0.18343828497823844], [0.2241911662090602], [0.34650332913571746], [0.39026099079749266], [0.45427183576388463], [0.5960762962456202], [0.6780214968184276], [0.7428252715653256], [0.7856220125571172], [0.7925056806976505], [0.8217883843902842], [0.8614522890871761], [0.902738409043538], [0.9365031036574718], [0.9764893277253395], [1.0]]\n"
          ]
        }
      ]
    },
    {
      "cell_type": "code",
      "source": [
        "from sklearn.model_selection import train_test_split\n",
        "# Cắt tập dữ liệu X, Y theo tỷ lệ 80/20 (80% training, 20% test)\n",
        "x_training, x_test, y_training, y_test = train_test_split(X,Y,test_size=0.20,\n",
        "                                                          shuffle=True,\n",
        "                                                          random_state=0)"
      ],
      "metadata": {
        "id": "opye7ufvxeHL"
      },
      "execution_count": null,
      "outputs": []
    },
    {
      "cell_type": "code",
      "source": [
        "from keras.models import Sequential\n",
        "from keras.layers import LSTM,Dropout,Dense\n",
        "lstm_model=Sequential()\n",
        "lstm_model.add(LSTM(units=128,return_sequences=True,\n",
        "                    activation='relu',\n",
        "                    input_shape=(range_X,1)))\n",
        "lstm_model.add(LSTM(units=64))\n",
        "lstm_model.add(Dropout(0.5))\n",
        "lstm_model.add(Dense(1))\n",
        "\n",
        "\n",
        "lstm_model.compile(loss='mean_squared_error',optimizer='adam')\n",
        "lstm_model.fit(x_training,y_training,epochs=150,batch_size=5,verbose=2)"
      ],
      "metadata": {
        "colab": {
          "base_uri": "https://localhost:8080/"
        },
        "id": "9bKkGNiDuYj0",
        "outputId": "c67439c6-743f-4704-dbb7-052d81c57e30"
      },
      "execution_count": null,
      "outputs": [
        {
          "output_type": "stream",
          "name": "stdout",
          "text": [
            "Epoch 1/150\n",
            "4/4 - 3s - loss: 0.3290 - 3s/epoch - 869ms/step\n",
            "Epoch 2/150\n",
            "4/4 - 0s - loss: 0.2513 - 109ms/epoch - 27ms/step\n",
            "Epoch 3/150\n",
            "4/4 - 0s - loss: 0.1878 - 118ms/epoch - 30ms/step\n",
            "Epoch 4/150\n",
            "4/4 - 0s - loss: 0.1213 - 70ms/epoch - 17ms/step\n",
            "Epoch 5/150\n",
            "4/4 - 0s - loss: 0.0713 - 91ms/epoch - 23ms/step\n",
            "Epoch 6/150\n",
            "4/4 - 0s - loss: 0.0268 - 79ms/epoch - 20ms/step\n",
            "Epoch 7/150\n",
            "4/4 - 0s - loss: 0.0513 - 126ms/epoch - 32ms/step\n",
            "Epoch 8/150\n",
            "4/4 - 0s - loss: 0.0355 - 98ms/epoch - 24ms/step\n",
            "Epoch 9/150\n",
            "4/4 - 0s - loss: 0.0260 - 60ms/epoch - 15ms/step\n",
            "Epoch 10/150\n",
            "4/4 - 0s - loss: 0.0303 - 75ms/epoch - 19ms/step\n",
            "Epoch 11/150\n",
            "4/4 - 0s - loss: 0.0325 - 77ms/epoch - 19ms/step\n",
            "Epoch 12/150\n",
            "4/4 - 0s - loss: 0.0176 - 127ms/epoch - 32ms/step\n",
            "Epoch 13/150\n",
            "4/4 - 0s - loss: 0.0267 - 74ms/epoch - 19ms/step\n",
            "Epoch 14/150\n",
            "4/4 - 0s - loss: 0.0112 - 56ms/epoch - 14ms/step\n",
            "Epoch 15/150\n",
            "4/4 - 0s - loss: 0.0181 - 120ms/epoch - 30ms/step\n",
            "Epoch 16/150\n",
            "4/4 - 0s - loss: 0.0114 - 107ms/epoch - 27ms/step\n",
            "Epoch 17/150\n",
            "4/4 - 0s - loss: 0.0188 - 94ms/epoch - 23ms/step\n",
            "Epoch 18/150\n",
            "4/4 - 0s - loss: 0.0121 - 75ms/epoch - 19ms/step\n",
            "Epoch 19/150\n",
            "4/4 - 0s - loss: 0.0121 - 88ms/epoch - 22ms/step\n",
            "Epoch 20/150\n",
            "4/4 - 0s - loss: 0.0106 - 96ms/epoch - 24ms/step\n",
            "Epoch 21/150\n",
            "4/4 - 0s - loss: 0.0167 - 100ms/epoch - 25ms/step\n",
            "Epoch 22/150\n",
            "4/4 - 0s - loss: 0.0331 - 132ms/epoch - 33ms/step\n",
            "Epoch 23/150\n",
            "4/4 - 0s - loss: 0.0131 - 90ms/epoch - 23ms/step\n",
            "Epoch 24/150\n",
            "4/4 - 0s - loss: 0.0134 - 50ms/epoch - 13ms/step\n",
            "Epoch 25/150\n",
            "4/4 - 0s - loss: 0.0148 - 38ms/epoch - 10ms/step\n",
            "Epoch 26/150\n",
            "4/4 - 0s - loss: 0.0138 - 39ms/epoch - 10ms/step\n",
            "Epoch 27/150\n",
            "4/4 - 0s - loss: 0.0102 - 39ms/epoch - 10ms/step\n",
            "Epoch 28/150\n",
            "4/4 - 0s - loss: 0.0101 - 41ms/epoch - 10ms/step\n",
            "Epoch 29/150\n",
            "4/4 - 0s - loss: 0.0121 - 40ms/epoch - 10ms/step\n",
            "Epoch 30/150\n",
            "4/4 - 0s - loss: 0.0192 - 38ms/epoch - 9ms/step\n",
            "Epoch 31/150\n",
            "4/4 - 0s - loss: 0.0128 - 40ms/epoch - 10ms/step\n",
            "Epoch 32/150\n",
            "4/4 - 0s - loss: 0.0136 - 37ms/epoch - 9ms/step\n",
            "Epoch 33/150\n",
            "4/4 - 0s - loss: 0.0139 - 55ms/epoch - 14ms/step\n",
            "Epoch 34/150\n",
            "4/4 - 0s - loss: 0.0124 - 39ms/epoch - 10ms/step\n",
            "Epoch 35/150\n",
            "4/4 - 0s - loss: 0.0124 - 40ms/epoch - 10ms/step\n",
            "Epoch 36/150\n",
            "4/4 - 0s - loss: 0.0094 - 42ms/epoch - 10ms/step\n",
            "Epoch 37/150\n",
            "4/4 - 0s - loss: 0.0068 - 39ms/epoch - 10ms/step\n",
            "Epoch 38/150\n",
            "4/4 - 0s - loss: 0.0089 - 44ms/epoch - 11ms/step\n",
            "Epoch 39/150\n",
            "4/4 - 0s - loss: 0.0131 - 37ms/epoch - 9ms/step\n",
            "Epoch 40/150\n",
            "4/4 - 0s - loss: 0.0096 - 37ms/epoch - 9ms/step\n",
            "Epoch 41/150\n",
            "4/4 - 0s - loss: 0.0115 - 38ms/epoch - 10ms/step\n",
            "Epoch 42/150\n",
            "4/4 - 0s - loss: 0.0111 - 41ms/epoch - 10ms/step\n",
            "Epoch 43/150\n",
            "4/4 - 0s - loss: 0.0102 - 41ms/epoch - 10ms/step\n",
            "Epoch 44/150\n",
            "4/4 - 0s - loss: 0.0108 - 40ms/epoch - 10ms/step\n",
            "Epoch 45/150\n",
            "4/4 - 0s - loss: 0.0055 - 40ms/epoch - 10ms/step\n",
            "Epoch 46/150\n",
            "4/4 - 0s - loss: 0.0076 - 41ms/epoch - 10ms/step\n",
            "Epoch 47/150\n",
            "4/4 - 0s - loss: 0.0043 - 40ms/epoch - 10ms/step\n",
            "Epoch 48/150\n",
            "4/4 - 0s - loss: 0.0075 - 39ms/epoch - 10ms/step\n",
            "Epoch 49/150\n",
            "4/4 - 0s - loss: 0.0097 - 38ms/epoch - 9ms/step\n",
            "Epoch 50/150\n",
            "4/4 - 0s - loss: 0.0057 - 38ms/epoch - 10ms/step\n",
            "Epoch 51/150\n",
            "4/4 - 0s - loss: 0.0138 - 40ms/epoch - 10ms/step\n",
            "Epoch 52/150\n",
            "4/4 - 0s - loss: 0.0043 - 41ms/epoch - 10ms/step\n",
            "Epoch 53/150\n",
            "4/4 - 0s - loss: 0.0089 - 38ms/epoch - 10ms/step\n",
            "Epoch 54/150\n",
            "4/4 - 0s - loss: 0.0121 - 40ms/epoch - 10ms/step\n",
            "Epoch 55/150\n",
            "4/4 - 0s - loss: 0.0066 - 39ms/epoch - 10ms/step\n",
            "Epoch 56/150\n",
            "4/4 - 0s - loss: 0.0173 - 42ms/epoch - 10ms/step\n",
            "Epoch 57/150\n",
            "4/4 - 0s - loss: 0.0054 - 39ms/epoch - 10ms/step\n",
            "Epoch 58/150\n",
            "4/4 - 0s - loss: 0.0069 - 40ms/epoch - 10ms/step\n",
            "Epoch 59/150\n",
            "4/4 - 0s - loss: 0.0138 - 43ms/epoch - 11ms/step\n",
            "Epoch 60/150\n",
            "4/4 - 0s - loss: 0.0070 - 39ms/epoch - 10ms/step\n",
            "Epoch 61/150\n",
            "4/4 - 0s - loss: 0.0116 - 45ms/epoch - 11ms/step\n",
            "Epoch 62/150\n",
            "4/4 - 0s - loss: 0.0064 - 40ms/epoch - 10ms/step\n",
            "Epoch 63/150\n",
            "4/4 - 0s - loss: 0.0187 - 38ms/epoch - 10ms/step\n",
            "Epoch 64/150\n",
            "4/4 - 0s - loss: 0.0062 - 41ms/epoch - 10ms/step\n",
            "Epoch 65/150\n",
            "4/4 - 0s - loss: 0.0126 - 41ms/epoch - 10ms/step\n",
            "Epoch 66/150\n",
            "4/4 - 0s - loss: 0.0075 - 41ms/epoch - 10ms/step\n",
            "Epoch 67/150\n",
            "4/4 - 0s - loss: 0.0086 - 42ms/epoch - 11ms/step\n",
            "Epoch 68/150\n",
            "4/4 - 0s - loss: 0.0078 - 44ms/epoch - 11ms/step\n",
            "Epoch 69/150\n",
            "4/4 - 0s - loss: 0.0055 - 41ms/epoch - 10ms/step\n",
            "Epoch 70/150\n",
            "4/4 - 0s - loss: 0.0098 - 40ms/epoch - 10ms/step\n",
            "Epoch 71/150\n",
            "4/4 - 0s - loss: 0.0045 - 39ms/epoch - 10ms/step\n",
            "Epoch 72/150\n",
            "4/4 - 0s - loss: 0.0056 - 38ms/epoch - 10ms/step\n",
            "Epoch 73/150\n",
            "4/4 - 0s - loss: 0.0063 - 39ms/epoch - 10ms/step\n",
            "Epoch 74/150\n",
            "4/4 - 0s - loss: 0.0094 - 38ms/epoch - 9ms/step\n",
            "Epoch 75/150\n",
            "4/4 - 0s - loss: 0.0054 - 40ms/epoch - 10ms/step\n",
            "Epoch 76/150\n",
            "4/4 - 0s - loss: 0.0075 - 40ms/epoch - 10ms/step\n",
            "Epoch 77/150\n",
            "4/4 - 0s - loss: 0.0175 - 45ms/epoch - 11ms/step\n",
            "Epoch 78/150\n",
            "4/4 - 0s - loss: 0.0050 - 39ms/epoch - 10ms/step\n",
            "Epoch 79/150\n",
            "4/4 - 0s - loss: 0.0083 - 41ms/epoch - 10ms/step\n",
            "Epoch 80/150\n",
            "4/4 - 0s - loss: 0.0070 - 37ms/epoch - 9ms/step\n",
            "Epoch 81/150\n",
            "4/4 - 0s - loss: 0.0063 - 37ms/epoch - 9ms/step\n",
            "Epoch 82/150\n",
            "4/4 - 0s - loss: 0.0140 - 39ms/epoch - 10ms/step\n",
            "Epoch 83/150\n",
            "4/4 - 0s - loss: 0.0063 - 38ms/epoch - 9ms/step\n",
            "Epoch 84/150\n",
            "4/4 - 0s - loss: 0.0089 - 37ms/epoch - 9ms/step\n",
            "Epoch 85/150\n",
            "4/4 - 0s - loss: 0.0088 - 39ms/epoch - 10ms/step\n",
            "Epoch 86/150\n",
            "4/4 - 0s - loss: 0.0017 - 37ms/epoch - 9ms/step\n",
            "Epoch 87/150\n",
            "4/4 - 0s - loss: 0.0053 - 42ms/epoch - 10ms/step\n",
            "Epoch 88/150\n",
            "4/4 - 0s - loss: 0.0079 - 41ms/epoch - 10ms/step\n",
            "Epoch 89/150\n",
            "4/4 - 0s - loss: 0.0067 - 37ms/epoch - 9ms/step\n",
            "Epoch 90/150\n",
            "4/4 - 0s - loss: 0.0079 - 37ms/epoch - 9ms/step\n",
            "Epoch 91/150\n",
            "4/4 - 0s - loss: 0.0035 - 47ms/epoch - 12ms/step\n",
            "Epoch 92/150\n",
            "4/4 - 0s - loss: 0.0066 - 39ms/epoch - 10ms/step\n",
            "Epoch 93/150\n",
            "4/4 - 0s - loss: 0.0093 - 54ms/epoch - 14ms/step\n",
            "Epoch 94/150\n",
            "4/4 - 0s - loss: 0.0060 - 43ms/epoch - 11ms/step\n",
            "Epoch 95/150\n",
            "4/4 - 0s - loss: 0.0073 - 41ms/epoch - 10ms/step\n",
            "Epoch 96/150\n",
            "4/4 - 0s - loss: 0.0061 - 39ms/epoch - 10ms/step\n",
            "Epoch 97/150\n",
            "4/4 - 0s - loss: 0.0094 - 39ms/epoch - 10ms/step\n",
            "Epoch 98/150\n",
            "4/4 - 0s - loss: 0.0055 - 38ms/epoch - 9ms/step\n",
            "Epoch 99/150\n",
            "4/4 - 0s - loss: 0.0052 - 43ms/epoch - 11ms/step\n",
            "Epoch 100/150\n",
            "4/4 - 0s - loss: 0.0035 - 46ms/epoch - 12ms/step\n",
            "Epoch 101/150\n",
            "4/4 - 0s - loss: 0.0097 - 38ms/epoch - 9ms/step\n",
            "Epoch 102/150\n",
            "4/4 - 0s - loss: 0.0041 - 40ms/epoch - 10ms/step\n",
            "Epoch 103/150\n",
            "4/4 - 0s - loss: 0.0127 - 39ms/epoch - 10ms/step\n",
            "Epoch 104/150\n",
            "4/4 - 0s - loss: 0.0069 - 38ms/epoch - 10ms/step\n",
            "Epoch 105/150\n",
            "4/4 - 0s - loss: 0.0096 - 40ms/epoch - 10ms/step\n",
            "Epoch 106/150\n",
            "4/4 - 0s - loss: 0.0065 - 38ms/epoch - 9ms/step\n",
            "Epoch 107/150\n",
            "4/4 - 0s - loss: 0.0038 - 39ms/epoch - 10ms/step\n",
            "Epoch 108/150\n",
            "4/4 - 0s - loss: 0.0063 - 38ms/epoch - 10ms/step\n",
            "Epoch 109/150\n",
            "4/4 - 0s - loss: 0.0027 - 41ms/epoch - 10ms/step\n",
            "Epoch 110/150\n",
            "4/4 - 0s - loss: 0.0056 - 39ms/epoch - 10ms/step\n",
            "Epoch 111/150\n",
            "4/4 - 0s - loss: 0.0071 - 40ms/epoch - 10ms/step\n",
            "Epoch 112/150\n",
            "4/4 - 0s - loss: 0.0065 - 39ms/epoch - 10ms/step\n",
            "Epoch 113/150\n",
            "4/4 - 0s - loss: 0.0032 - 41ms/epoch - 10ms/step\n",
            "Epoch 114/150\n",
            "4/4 - 0s - loss: 0.0110 - 43ms/epoch - 11ms/step\n",
            "Epoch 115/150\n",
            "4/4 - 0s - loss: 0.0089 - 42ms/epoch - 10ms/step\n",
            "Epoch 116/150\n",
            "4/4 - 0s - loss: 0.0106 - 39ms/epoch - 10ms/step\n",
            "Epoch 117/150\n",
            "4/4 - 0s - loss: 0.0037 - 38ms/epoch - 9ms/step\n",
            "Epoch 118/150\n",
            "4/4 - 0s - loss: 0.0137 - 39ms/epoch - 10ms/step\n",
            "Epoch 119/150\n",
            "4/4 - 0s - loss: 0.0017 - 38ms/epoch - 10ms/step\n",
            "Epoch 120/150\n",
            "4/4 - 0s - loss: 0.0093 - 41ms/epoch - 10ms/step\n",
            "Epoch 121/150\n",
            "4/4 - 0s - loss: 0.0088 - 39ms/epoch - 10ms/step\n",
            "Epoch 122/150\n",
            "4/4 - 0s - loss: 0.0033 - 38ms/epoch - 9ms/step\n",
            "Epoch 123/150\n",
            "4/4 - 0s - loss: 0.0104 - 37ms/epoch - 9ms/step\n",
            "Epoch 124/150\n",
            "4/4 - 0s - loss: 0.0123 - 40ms/epoch - 10ms/step\n",
            "Epoch 125/150\n",
            "4/4 - 0s - loss: 0.0088 - 40ms/epoch - 10ms/step\n",
            "Epoch 126/150\n",
            "4/4 - 0s - loss: 0.0054 - 42ms/epoch - 11ms/step\n",
            "Epoch 127/150\n",
            "4/4 - 0s - loss: 0.0095 - 40ms/epoch - 10ms/step\n",
            "Epoch 128/150\n",
            "4/4 - 0s - loss: 0.0065 - 37ms/epoch - 9ms/step\n",
            "Epoch 129/150\n",
            "4/4 - 0s - loss: 0.0097 - 38ms/epoch - 10ms/step\n",
            "Epoch 130/150\n",
            "4/4 - 0s - loss: 0.0034 - 46ms/epoch - 11ms/step\n",
            "Epoch 131/150\n",
            "4/4 - 0s - loss: 0.0043 - 37ms/epoch - 9ms/step\n",
            "Epoch 132/150\n",
            "4/4 - 0s - loss: 0.0043 - 37ms/epoch - 9ms/step\n",
            "Epoch 133/150\n",
            "4/4 - 0s - loss: 0.0033 - 40ms/epoch - 10ms/step\n",
            "Epoch 134/150\n",
            "4/4 - 0s - loss: 0.0099 - 43ms/epoch - 11ms/step\n",
            "Epoch 135/150\n",
            "4/4 - 0s - loss: 0.0040 - 38ms/epoch - 10ms/step\n",
            "Epoch 136/150\n",
            "4/4 - 0s - loss: 0.0100 - 39ms/epoch - 10ms/step\n",
            "Epoch 137/150\n",
            "4/4 - 0s - loss: 0.0086 - 38ms/epoch - 10ms/step\n",
            "Epoch 138/150\n",
            "4/4 - 0s - loss: 0.0020 - 37ms/epoch - 9ms/step\n",
            "Epoch 139/150\n",
            "4/4 - 0s - loss: 0.0151 - 38ms/epoch - 10ms/step\n",
            "Epoch 140/150\n",
            "4/4 - 0s - loss: 0.0047 - 37ms/epoch - 9ms/step\n",
            "Epoch 141/150\n",
            "4/4 - 0s - loss: 0.0050 - 40ms/epoch - 10ms/step\n",
            "Epoch 142/150\n",
            "4/4 - 0s - loss: 0.0077 - 38ms/epoch - 9ms/step\n",
            "Epoch 143/150\n",
            "4/4 - 0s - loss: 0.0116 - 39ms/epoch - 10ms/step\n",
            "Epoch 144/150\n",
            "4/4 - 0s - loss: 0.0091 - 55ms/epoch - 14ms/step\n",
            "Epoch 145/150\n",
            "4/4 - 0s - loss: 0.0228 - 39ms/epoch - 10ms/step\n",
            "Epoch 146/150\n",
            "4/4 - 0s - loss: 0.0031 - 45ms/epoch - 11ms/step\n",
            "Epoch 147/150\n",
            "4/4 - 0s - loss: 0.0077 - 46ms/epoch - 11ms/step\n",
            "Epoch 148/150\n",
            "4/4 - 0s - loss: 0.0057 - 39ms/epoch - 10ms/step\n",
            "Epoch 149/150\n",
            "4/4 - 0s - loss: 0.0056 - 41ms/epoch - 10ms/step\n",
            "Epoch 150/150\n",
            "4/4 - 0s - loss: 0.0026 - 38ms/epoch - 10ms/step\n"
          ]
        },
        {
          "output_type": "execute_result",
          "data": {
            "text/plain": [
              "<keras.callbacks.History at 0x7f05eafd5e50>"
            ]
          },
          "metadata": {},
          "execution_count": 16
        }
      ]
    },
    {
      "cell_type": "code",
      "source": [
        "\n",
        "pred_y_test = lstm_model.predict(x_test)\n",
        "\n",
        "x_ax=range(len(x_test))\n",
        "plt.plot(x_ax, y_test, lw=1.5, color=\"red\",\n",
        "         label=\"Kết quả thực tế\")\n",
        "plt.plot(x_ax, pred_y_test, lw=1.5, color=\"blue\",\n",
        "         label=\"Kết quả dự đoán\")\n",
        "plt.title(\"Kết quả dự đoán trên tập Test\")\n",
        "plt.legend()\n",
        "plt.show()\n",
        "\n",
        "# Hiển thị sai số.\n",
        "pred_y_test = pred_y_test.tolist()\n",
        "\n",
        "mse = mean_squared_error(y_test, pred_y_test)\n",
        "print(\"Mean Squared Error:\",mse)\n",
        "rmse = math.sqrt(mse)\n",
        "print(\"Root Mean Squared Error:\", rmse)\n",
        "print(\"R2 Score: \",r2_score(y_test, pred_y_test))\n",
        "\n"
      ],
      "metadata": {
        "colab": {
          "base_uri": "https://localhost:8080/",
          "height": 334
        },
        "id": "2v73bwWIwc3M",
        "outputId": "1fda12b0-bb75-45ee-8a4f-1a8377e4e7a3"
      },
      "execution_count": null,
      "outputs": [
        {
          "output_type": "display_data",
          "data": {
            "text/plain": [
              "<Figure size 432x288 with 1 Axes>"
            ],
            "image/png": "[encoded data removed]"
          },
          "metadata": {
            "needs_background": "light"
          }
        },
        {
          "output_type": "stream",
          "name": "stdout",
          "text": [
            "Mean Squared Error: 0.0017192606373638356\n",
            "Root Mean Squared Error: 0.041463967940415875\n",
            "R2 Score:  0.9831746398908735\n"
          ]
        }
      ]
    }
  ]
}